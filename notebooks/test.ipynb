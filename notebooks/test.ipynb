{
 "cells": [
  {
   "cell_type": "code",
   "execution_count": null,
   "metadata": {},
   "outputs": [],
   "source": [
    "import time\n",
    "\n",
    "import jax\n",
    "import jax.numpy as jnp\n",
    "import matplotlib.pyplot as plt\n",
    "import numpy as onp\n",
    "\n",
    "import jeig"
   ]
  },
  {
   "cell_type": "code",
   "execution_count": null,
   "metadata": {},
   "outputs": [],
   "source": [
    "batch_size = [1, 16]\n",
    "matrix_size = [16, 32, 64, 128, 256, 512, 1024, 2048, 4096]\n",
    "repeats = 3\n",
    "backends = [jeig.EigBackend.JAX, jeig.EigBackend.MAGMA, jeig.EigBackend.NUMPY, jeig.EigBackend.SCIPY, jeig.EigBackend.TORCH]\n",
    "\n",
    "fns = {}\n",
    "for backend in backends:\n",
    "    fns[backend] = jax.jit(lambda x: jeig.eig(x, backend=backend))\n",
    "\n",
    "results = {}\n",
    "for backend in backends:\n",
    "    results[backend] = onp.zeros((len(batch_size), len(matrix_size), repeats))\n",
    "\n",
    "for i, bs in enumerate(batch_size):\n",
    "    for j, ms in enumerate(matrix_size):\n",
    "        shape = (bs, ms, ms)\n",
    "        for backend in backends:\n",
    "            for repeat in range(repeats):\n",
    "                key = jax.random.fold_in(jax.random.PRNGKey(0), repeat)\n",
    "                matrix = jax.random.normal(key, shape)\n",
    "                t0 = time.time()\n",
    "                jax.block_until_ready(fns[backend](matrix))\n",
    "                et = time.time() - t0\n",
    "                results[backend][i, j, repeat] = et"
   ]
  },
  {
   "cell_type": "code",
   "execution_count": null,
   "metadata": {},
   "outputs": [],
   "source": [
    "fig, axs = plt.subplots(1, 2, figsize=(9, 3))\n",
    "\n",
    "for backend in backends:\n",
    "    for i in range(len(batch_size)):\n",
    "        axs[i].loglog(matrix_size, onp.amin(results[backend][i, :, :], axis=-1), \"o-\", label=backend)\n",
    "\n",
    "for i in range(len(batch_size)):\n",
    "    axs[i].set_title(f\"batch_size={batch_size[i]}\")\n",
    "\n",
    "axs[1].legend(bbox_to_anchor=(1, 1))\n",
    "axs[0].set_ylabel(\"Elapsed time (s)\")\n",
    "for ax in axs:\n",
    "    ax.set_xlabel(\"Matrix size\")\n",
    "plt.tight_layout()"
   ]
  }
 ],
 "metadata": {
  "kernelspec": {
   "display_name": "invrs2",
   "language": "python",
   "name": "python3"
  },
  "language_info": {
   "codemirror_mode": {
    "name": "ipython",
    "version": 3
   },
   "file_extension": ".py",
   "mimetype": "text/x-python",
   "name": "python",
   "nbconvert_exporter": "python",
   "pygments_lexer": "ipython3",
   "version": "3.10.14"
  }
 },
 "nbformat": 4,
 "nbformat_minor": 2
}
